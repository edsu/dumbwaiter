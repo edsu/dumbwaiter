{
 "metadata": {
  "name": "",
  "signature": "sha256:f2d8964d71e80e327965a208812b3f6847b653000f1271f6d3ca0bb67939f3d8"
 },
 "nbformat": 3,
 "nbformat_minor": 0,
 "worksheets": [
  {
   "cells": [
    {
     "cell_type": "markdown",
     "metadata": {},
     "source": [
      "# A Repeatable Extract-Tranform-Load Pipeline for NYPL Menus Data\n",
      "\n",
      "**Created:** 17 October 2014\n",
      "\n",
      "**Updated:** 28 October 2014, 19 November 2014, 3 December 2014, 14 December 2014, 8 January 2015\n",
      "\n",
      "**Authors:** Trevor Mu\u00f1oz and Katie Rawson\n",
      "\n",
      "&nbsp;"
     ]
    },
    {
     "cell_type": "markdown",
     "metadata": {},
     "source": [
      "Have you set environment variables?: \n",
      "\n",
      "* MENUS_LOG_HOME\n",
      "* MENUS_SOURCE_DATA\n",
      "* MENUS_OUTPUT_DIR\n",
      "* MENUS_ES_HOSTNAME, \n",
      "* MENUS_ES_HOST_PORT"
     ]
    },
    {
     "cell_type": "markdown",
     "metadata": {},
     "source": [
      "### Acquiring Data (Extract)"
     ]
    },
    {
     "cell_type": "markdown",
     "metadata": {},
     "source": [
      "At the moment, the anti-bot protections on the New York Public Library's Web site make it impossible to grab the latest data download link directly. So, we download the data (as gzipped tar file) and package it with this script. \n",
      "\n",
      "The first stage of the pipeline unzips and untars the archive into four CSV files:\n",
      "\n",
      "* Dish.csv\n",
      "* Menu.csv\n",
      "* MenuItem.csv\n",
      "* MenuPage.csv\n",
      "\n",
      "&nbsp;"
     ]
    },
    {
     "cell_type": "code",
     "collapsed": false,
     "input": [
      "import os\n",
      "import datetime\n",
      "import time\n",
      "import tarfile"
     ],
     "language": "python",
     "metadata": {},
     "outputs": [],
     "prompt_number": 1
    },
    {
     "cell_type": "markdown",
     "metadata": {},
     "source": [
      "Set up logging \u2026"
     ]
    },
    {
     "cell_type": "code",
     "collapsed": false,
     "input": [
      "import logging\n",
      "import logging.handlers"
     ],
     "language": "python",
     "metadata": {},
     "outputs": [],
     "prompt_number": 2
    },
    {
     "cell_type": "code",
     "collapsed": false,
     "input": [
      "LOG_FILENAME = os.path.join(os.environ['MENUS_LOG_HOME'], 'nypl_menus_data_transform.log')\n",
      "\n",
      "pipeline_logger = logging.getLogger('MenusDataTransformLogger')\n",
      "pipeline_logger.setLevel(logging.INFO)\n",
      "formatter = logging.Formatter('%(asctime)s - %(name)s - %(levelname)s - %(message)s')\n",
      "\n",
      "handler = logging.handlers.RotatingFileHandler(LOG_FILENAME, maxBytes=500000, backupCount=10)\n",
      "handler.setFormatter(formatter)\n",
      "pipeline_logger.addHandler(handler)"
     ],
     "language": "python",
     "metadata": {},
     "outputs": [],
     "prompt_number": 3
    },
    {
     "cell_type": "code",
     "collapsed": false,
     "input": [
      "srcfile = [x for x in os.listdir(os.environ['MENUS_SOURCE_DATA']) if os.path.splitext(x)[1] == '.tgz'][0]"
     ],
     "language": "python",
     "metadata": {},
     "outputs": [],
     "prompt_number": 5
    },
    {
     "cell_type": "code",
     "collapsed": false,
     "input": [
      "tar = tarfile.open(os.path.join(os.environ['MENUS_SOURCE_DATA'], srcfile))"
     ],
     "language": "python",
     "metadata": {},
     "outputs": [],
     "prompt_number": 6
    },
    {
     "cell_type": "code",
     "collapsed": false,
     "input": [
      "pipeline_logger.info('Listing contents of the tar package \u2026')\n",
      "for tf in tar.getmembers():\n",
      "    pipeline_logger.info('Name: {0} \\t Last Modified: {1}'.format(tf.name, time.ctime(tf.mtime)))"
     ],
     "language": "python",
     "metadata": {},
     "outputs": [
      {
       "output_type": "stream",
       "stream": "stderr",
       "text": [
        "INFO:MenusDataTransformLogger:Listing contents of the tar package \u2026\n"
       ]
      },
      {
       "output_type": "stream",
       "stream": "stderr",
       "text": [
        "INFO:MenusDataTransformLogger:Name: Dish.csv \t Last Modified: Mon Dec  1 02:09:17 2014\n"
       ]
      },
      {
       "output_type": "stream",
       "stream": "stderr",
       "text": [
        "INFO:MenusDataTransformLogger:Name: Menu.csv \t Last Modified: Mon Dec  1 02:02:43 2014\n"
       ]
      },
      {
       "output_type": "stream",
       "stream": "stderr",
       "text": [
        "INFO:MenusDataTransformLogger:Name: MenuItem.csv \t Last Modified: Mon Dec  1 02:08:23 2014\n"
       ]
      },
      {
       "output_type": "stream",
       "stream": "stderr",
       "text": [
        "INFO:MenusDataTransformLogger:Name: MenuPage.csv \t Last Modified: Mon Dec  1 02:02:50 2014\n"
       ]
      }
     ],
     "prompt_number": 7
    },
    {
     "cell_type": "code",
     "collapsed": false,
     "input": [
      "pipeline_logger.info('Extracting files to data directory.')\n",
      "tar.extractall(path=os.environ['MENUS_SOURCE_DATA'])\n",
      "\n",
      "for f in os.listdir(os.environ['MENUS_SOURCE_DATA']):\n",
      "    if f.endswith('csv'):\n",
      "        if os.path.isfile(os.path.join(os.environ['MENUS_SOURCE_DATA'], f)) == True:\n",
      "            pipeline_logger.info('{0} \u2026 \\u2713'.format(f))"
     ],
     "language": "python",
     "metadata": {},
     "outputs": [
      {
       "output_type": "stream",
       "stream": "stderr",
       "text": [
        "INFO:MenusDataTransformLogger:Extracting files to data directory.\n"
       ]
      },
      {
       "output_type": "stream",
       "stream": "stderr",
       "text": [
        "INFO:MenusDataTransformLogger:Dish.csv \u2026 \u2713\n"
       ]
      },
      {
       "output_type": "stream",
       "stream": "stderr",
       "text": [
        "INFO:MenusDataTransformLogger:Menu.csv \u2026 \u2713\n"
       ]
      },
      {
       "output_type": "stream",
       "stream": "stderr",
       "text": [
        "INFO:MenusDataTransformLogger:MenuItem.csv \u2026 \u2713\n"
       ]
      },
      {
       "output_type": "stream",
       "stream": "stderr",
       "text": [
        "INFO:MenusDataTransformLogger:MenuPage.csv \u2026 \u2713\n"
       ]
      }
     ],
     "prompt_number": 8
    },
    {
     "cell_type": "code",
     "collapsed": false,
     "input": [
      "tar.close()"
     ],
     "language": "python",
     "metadata": {},
     "outputs": [],
     "prompt_number": 9
    },
    {
     "cell_type": "markdown",
     "metadata": {},
     "source": [
      "### Working with Data in DataFrames (Tranform)\n",
      "\n",
      "&nbsp;"
     ]
    },
    {
     "cell_type": "code",
     "collapsed": false,
     "input": [
      "import re\n",
      "import json\n",
      "import pytz\n",
      "import pandas as pd"
     ],
     "language": "python",
     "metadata": {},
     "outputs": [],
     "prompt_number": 10
    },
    {
     "cell_type": "code",
     "collapsed": false,
     "input": [
      "pipeline_logger.info('Loading data into memory \u2026')\n",
      "\n",
      "LATEST_DISH_DATA_DF = pd.DataFrame.from_csv(os.path.join(os.environ['MENUS_SOURCE_DATA'], 'Dish.csv'), \n",
      "                                            index_col='id')\n",
      "LATEST_ITEM_DATA_DF = pd.DataFrame.from_csv(os.path.join(os.environ['MENUS_SOURCE_DATA'], 'MenuItem.csv'), \n",
      "                                            index_col='dish_id')\n",
      "LATEST_PAGE_DATA_DF = pd.DataFrame.from_csv(os.path.join(os.environ['MENUS_SOURCE_DATA'], 'MenuPage.csv'), \n",
      "                                            index_col='id')\n",
      "LATEST_MENU_DATA_DF = pd.DataFrame.from_csv(os.path.join(os.environ['MENUS_SOURCE_DATA'], 'Menu.csv'),\n",
      "                                             index_col='id')\n",
      "\n",
      "pipeline_logger.info('Data loaded')"
     ],
     "language": "python",
     "metadata": {},
     "outputs": [
      {
       "output_type": "stream",
       "stream": "stderr",
       "text": [
        "INFO:MenusDataTransformLogger:Loading data into memory \u2026\n"
       ]
      },
      {
       "output_type": "stream",
       "stream": "stderr",
       "text": [
        "INFO:MenusDataTransformLogger:Data loaded\n"
       ]
      }
     ],
     "prompt_number": 11
    },
    {
     "cell_type": "markdown",
     "metadata": {},
     "source": [
      "##### Dish.csv\n"
     ]
    },
    {
     "cell_type": "code",
     "collapsed": false,
     "input": [
      "NULL_APPEARANCES = LATEST_DISH_DATA_DF[LATEST_DISH_DATA_DF.times_appeared == 0]"
     ],
     "language": "python",
     "metadata": {},
     "outputs": [],
     "prompt_number": 12
    },
    {
     "cell_type": "code",
     "collapsed": false,
     "input": [
      "pipeline_logger.info('Data set contains {0} dishes that appear 0 times \u2026'.format(\n",
      "    len(NULL_APPEARANCES))\n",
      ")"
     ],
     "language": "python",
     "metadata": {},
     "outputs": [
      {
       "output_type": "stream",
       "stream": "stderr",
       "text": [
        "INFO:MenusDataTransformLogger:Data set contains 6890 dishes that appear 0 times \u2026\n"
       ]
      }
     ],
     "prompt_number": 13
    },
    {
     "cell_type": "code",
     "collapsed": false,
     "input": [
      "NON_NULL_DISH_DATA_DF = LATEST_DISH_DATA_DF[LATEST_DISH_DATA_DF.times_appeared != 0]"
     ],
     "language": "python",
     "metadata": {},
     "outputs": [],
     "prompt_number": 14
    },
    {
     "cell_type": "code",
     "collapsed": false,
     "input": [
      "discarded_columns = [n for n in NON_NULL_DISH_DATA_DF.columns if n not in \n",
      "                     ['name', 'menus_appeared', 'times_appeared']]"
     ],
     "language": "python",
     "metadata": {},
     "outputs": [],
     "prompt_number": 15
    },
    {
     "cell_type": "code",
     "collapsed": false,
     "input": [
      "pipeline_logger.info('Discarding columns from Dish.csv \u2026')\n",
      "for discard in discarded_columns:\n",
      "    pipeline_logger.info('{0} \u2026 removed'.format(discard))"
     ],
     "language": "python",
     "metadata": {},
     "outputs": [
      {
       "output_type": "stream",
       "stream": "stderr",
       "text": [
        "INFO:MenusDataTransformLogger:Discarding columns from Dish.csv \u2026\n"
       ]
      },
      {
       "output_type": "stream",
       "stream": "stderr",
       "text": [
        "INFO:MenusDataTransformLogger:description \u2026 removed\n"
       ]
      },
      {
       "output_type": "stream",
       "stream": "stderr",
       "text": [
        "INFO:MenusDataTransformLogger:first_appeared \u2026 removed\n"
       ]
      },
      {
       "output_type": "stream",
       "stream": "stderr",
       "text": [
        "INFO:MenusDataTransformLogger:last_appeared \u2026 removed\n"
       ]
      },
      {
       "output_type": "stream",
       "stream": "stderr",
       "text": [
        "INFO:MenusDataTransformLogger:lowest_price \u2026 removed\n"
       ]
      },
      {
       "output_type": "stream",
       "stream": "stderr",
       "text": [
        "INFO:MenusDataTransformLogger:highest_price \u2026 removed\n"
       ]
      }
     ],
     "prompt_number": 16
    },
    {
     "cell_type": "code",
     "collapsed": false,
     "input": [
      "TRIMMED_DISH_DATA_DF = NON_NULL_DISH_DATA_DF[['name', 'menus_appeared', 'times_appeared']]"
     ],
     "language": "python",
     "metadata": {},
     "outputs": [],
     "prompt_number": 17
    },
    {
     "cell_type": "code",
     "collapsed": false,
     "input": [
      "pipeline_logger.info('Dish.csv contains {0} potentially-unique dish names before any normalization'.\n",
      "                     format(TRIMMED_DISH_DATA_DF.name.nunique()))"
     ],
     "language": "python",
     "metadata": {},
     "outputs": [
      {
       "output_type": "stream",
       "stream": "stderr",
       "text": [
        "INFO:MenusDataTransformLogger:Dish.csv contains 409188 potentially-unique dish names before any normalization\n"
       ]
      }
     ],
     "prompt_number": 18
    },
    {
     "cell_type": "code",
     "collapsed": false,
     "input": [
      "def normalize_names(obj):\n",
      "    '''\n",
      "    Take a name as a string, converts the string\n",
      "    to lowercase, strips whitespace from beginning\n",
      "    and end, normalizes multiple internal whitespace\n",
      "    characters to a single space. E.g.:\n",
      "    \n",
      "    normalize_names('Chicken gumbo ') = 'chicken gumbo'\n",
      "    \n",
      "    '''\n",
      "    tokens = obj.strip().lower().split()\n",
      "    result = ' '.join(filter(None, tokens))\n",
      "    return result"
     ],
     "language": "python",
     "metadata": {},
     "outputs": [],
     "prompt_number": 19
    },
    {
     "cell_type": "code",
     "collapsed": false,
     "input": [
      "TRIMMED_DISH_DATA_DF['normalized_name'] = TRIMMED_DISH_DATA_DF.name.map(normalize_names)"
     ],
     "language": "python",
     "metadata": {},
     "outputs": [],
     "prompt_number": 20
    },
    {
     "cell_type": "code",
     "collapsed": false,
     "input": [
      "pipeline_logger.info(\n",
      "    'Dish.csv contains {0} potentially-unique dish names after normalizing whitespace and punctuation'\n",
      "    .format(TRIMMED_DISH_DATA_DF.normalized_name.nunique())\n",
      ")"
     ],
     "language": "python",
     "metadata": {},
     "outputs": [
      {
       "output_type": "stream",
       "stream": "stderr",
       "text": [
        "INFO:MenusDataTransformLogger:Dish.csv contains 380172 potentially-unique dish names after normalizing whitespace and punctuation\n"
       ]
      }
     ],
     "prompt_number": 21
    },
    {
     "cell_type": "code",
     "collapsed": false,
     "input": [
      "def fingerprint(obj):\n",
      "    \"\"\"\n",
      "    A modified version of the fingerprint clustering algorithm implemented by Open Refine.\n",
      "    See https://github.com/OpenRefine/OpenRefine/wiki/Clustering-In-Depth\n",
      "    This does not normalize to ASCII characters since diacritics may be significant in this dataset\n",
      "    \"\"\"\n",
      "    alphanumeric_tokens = filter(None, re.split('\\W', obj))\n",
      "    seen = set()\n",
      "    seen_add = seen.add\n",
      "    deduped = sorted([i for i in alphanumeric_tokens if i not in seen and not seen_add(i)])\n",
      "    fingerprint = ' '.join(deduped)\n",
      "    \n",
      "    return fingerprint"
     ],
     "language": "python",
     "metadata": {},
     "outputs": [],
     "prompt_number": 22
    },
    {
     "cell_type": "code",
     "collapsed": false,
     "input": [
      "TRIMMED_DISH_DATA_DF['fingerprint'] = TRIMMED_DISH_DATA_DF.normalized_name.map(fingerprint)"
     ],
     "language": "python",
     "metadata": {},
     "outputs": [],
     "prompt_number": 23
    },
    {
     "cell_type": "code",
     "collapsed": false,
     "input": [
      "pipeline_logger.info(\n",
      "    'Dish.csv contains {0} unique fingerprint values'\n",
      "    .format(TRIMMED_DISH_DATA_DF.fingerprint.nunique())\n",
      ")"
     ],
     "language": "python",
     "metadata": {},
     "outputs": [
      {
       "output_type": "stream",
       "stream": "stderr",
       "text": [
        "INFO:MenusDataTransformLogger:Dish.csv contains 337117 unique fingerprint values\n"
       ]
      }
     ],
     "prompt_number": 24
    },
    {
     "cell_type": "code",
     "collapsed": false,
     "input": [
      "#TRIMMED_DISH_DATA_DF.head()"
     ],
     "language": "python",
     "metadata": {},
     "outputs": [],
     "prompt_number": 25
    },
    {
     "cell_type": "markdown",
     "metadata": {},
     "source": [
      "##### MenuItem.csv\n"
     ]
    },
    {
     "cell_type": "code",
     "collapsed": false,
     "input": [
      "# TOFIX: This code is very slow\n",
      "utc = pytz.utc\n",
      "def reformat_dates(obj):\n",
      "    naive_date_in = datetime.datetime.strptime(obj, '%Y-%m-%d %H:%M:%S %Z')\n",
      "    date_in = naive_date_in.replace(tzinfo=utc)\n",
      "    date_out = date_in.strftime('%Y%m%dT%H%M%S%z')\n",
      "    return date_out"
     ],
     "language": "python",
     "metadata": {},
     "outputs": [],
     "prompt_number": 26
    },
    {
     "cell_type": "code",
     "collapsed": false,
     "input": [
      "pipeline_logger.info('Reformatting item dates \u2026')\n",
      "LATEST_ITEM_DATA_DF['item_created_at'] = LATEST_ITEM_DATA_DF.created_at.map(reformat_dates)\n",
      "LATEST_ITEM_DATA_DF['item_updated_at'] = LATEST_ITEM_DATA_DF.updated_at.map(reformat_dates)\n",
      "pipeline_logger.info('Date reformatting complete \u2026')"
     ],
     "language": "python",
     "metadata": {},
     "outputs": [
      {
       "output_type": "stream",
       "stream": "stderr",
       "text": [
        "INFO:MenusDataTransformLogger:Reformatting item dates \u2026\n"
       ]
      },
      {
       "output_type": "stream",
       "stream": "stderr",
       "text": [
        "INFO:MenusDataTransformLogger:Date reformatting complete \u2026\n"
       ]
      }
     ],
     "prompt_number": 27
    },
    {
     "cell_type": "code",
     "collapsed": false,
     "input": [
      "discarded_columns2 = [n for n in LATEST_ITEM_DATA_DF.columns if n not in \n",
      "                      ['id', 'menu_page_id', 'xpos', 'ypos', 'item_created_at', 'item_updated_at']]"
     ],
     "language": "python",
     "metadata": {},
     "outputs": [],
     "prompt_number": 28
    },
    {
     "cell_type": "code",
     "collapsed": false,
     "input": [
      "pipeline_logger.info('Discarding columns from MenuItem.csv \u2026')\n",
      "for discard2 in discarded_columns2:\n",
      "    pipeline_logger.info('{0} \u2026 removed'.format(discard2))"
     ],
     "language": "python",
     "metadata": {},
     "outputs": [
      {
       "output_type": "stream",
       "stream": "stderr",
       "text": [
        "INFO:MenusDataTransformLogger:Discarding columns from MenuItem.csv \u2026\n"
       ]
      },
      {
       "output_type": "stream",
       "stream": "stderr",
       "text": [
        "INFO:MenusDataTransformLogger:price \u2026 removed\n"
       ]
      },
      {
       "output_type": "stream",
       "stream": "stderr",
       "text": [
        "INFO:MenusDataTransformLogger:high_price \u2026 removed\n"
       ]
      },
      {
       "output_type": "stream",
       "stream": "stderr",
       "text": [
        "INFO:MenusDataTransformLogger:created_at \u2026 removed\n"
       ]
      },
      {
       "output_type": "stream",
       "stream": "stderr",
       "text": [
        "INFO:MenusDataTransformLogger:updated_at \u2026 removed\n"
       ]
      }
     ],
     "prompt_number": 29
    },
    {
     "cell_type": "code",
     "collapsed": false,
     "input": [
      "TRIMMED_ITEM_DATA_DF = LATEST_ITEM_DATA_DF[['id', 'menu_page_id', 'xpos', 'ypos',\n",
      "                                           'item_created_at', 'item_updated_at']]"
     ],
     "language": "python",
     "metadata": {},
     "outputs": [],
     "prompt_number": 30
    },
    {
     "cell_type": "code",
     "collapsed": false,
     "input": [
      "#TRIMMED_ITEM_DATA_DF.head()"
     ],
     "language": "python",
     "metadata": {},
     "outputs": [],
     "prompt_number": 31
    },
    {
     "cell_type": "markdown",
     "metadata": {},
     "source": [
      "##### MenuPage.csv"
     ]
    },
    {
     "cell_type": "code",
     "collapsed": false,
     "input": [
      "#LATEST_PAGE_DATA_DF.head()"
     ],
     "language": "python",
     "metadata": {},
     "outputs": [],
     "prompt_number": 32
    },
    {
     "cell_type": "code",
     "collapsed": false,
     "input": [
      "LATEST_PAGE_DATA_DF[['full_height', 'full_width']].astype(int, raise_on_error=False)"
     ],
     "language": "python",
     "metadata": {},
     "outputs": [
      {
       "html": [
        "<div style=\"max-height:1000px;max-width:1500px;overflow:auto;\">\n",
        "<table border=\"1\" class=\"dataframe\">\n",
        "  <thead>\n",
        "    <tr style=\"text-align: right;\">\n",
        "      <th></th>\n",
        "      <th>full_height</th>\n",
        "      <th>full_width</th>\n",
        "    </tr>\n",
        "    <tr>\n",
        "      <th>id</th>\n",
        "      <th></th>\n",
        "      <th></th>\n",
        "    </tr>\n",
        "  </thead>\n",
        "  <tbody>\n",
        "    <tr>\n",
        "      <th>119  </th>\n",
        "      <td> 7230</td>\n",
        "      <td> 5428</td>\n",
        "    </tr>\n",
        "    <tr>\n",
        "      <th>120  </th>\n",
        "      <td> 5428</td>\n",
        "      <td> 7230</td>\n",
        "    </tr>\n",
        "    <tr>\n",
        "      <th>121  </th>\n",
        "      <td> 7230</td>\n",
        "      <td> 5428</td>\n",
        "    </tr>\n",
        "    <tr>\n",
        "      <th>122  </th>\n",
        "      <td> 7230</td>\n",
        "      <td> 5428</td>\n",
        "    </tr>\n",
        "    <tr>\n",
        "      <th>123  </th>\n",
        "      <td> 7230</td>\n",
        "      <td> 5428</td>\n",
        "    </tr>\n",
        "    <tr>\n",
        "      <th>124  </th>\n",
        "      <td> 7230</td>\n",
        "      <td> 5428</td>\n",
        "    </tr>\n",
        "    <tr>\n",
        "      <th>125  </th>\n",
        "      <td> 7230</td>\n",
        "      <td> 5428</td>\n",
        "    </tr>\n",
        "    <tr>\n",
        "      <th>126  </th>\n",
        "      <td> 7230</td>\n",
        "      <td> 5428</td>\n",
        "    </tr>\n",
        "    <tr>\n",
        "      <th>127  </th>\n",
        "      <td>  NaN</td>\n",
        "      <td>  NaN</td>\n",
        "    </tr>\n",
        "    <tr>\n",
        "      <th>128  </th>\n",
        "      <td>  NaN</td>\n",
        "      <td>  NaN</td>\n",
        "    </tr>\n",
        "    <tr>\n",
        "      <th>129  </th>\n",
        "      <td> 3074</td>\n",
        "      <td> 2046</td>\n",
        "    </tr>\n",
        "    <tr>\n",
        "      <th>130  </th>\n",
        "      <td> 3049</td>\n",
        "      <td> 2004</td>\n",
        "    </tr>\n",
        "    <tr>\n",
        "      <th>131  </th>\n",
        "      <td> 3690</td>\n",
        "      <td> 2888</td>\n",
        "    </tr>\n",
        "    <tr>\n",
        "      <th>132  </th>\n",
        "      <td> 3679</td>\n",
        "      <td> 2866</td>\n",
        "    </tr>\n",
        "    <tr>\n",
        "      <th>133  </th>\n",
        "      <td> 3413</td>\n",
        "      <td> 2307</td>\n",
        "    </tr>\n",
        "    <tr>\n",
        "      <th>134  </th>\n",
        "      <td> 3411</td>\n",
        "      <td> 2291</td>\n",
        "    </tr>\n",
        "    <tr>\n",
        "      <th>135  </th>\n",
        "      <td> 3352</td>\n",
        "      <td> 2312</td>\n",
        "    </tr>\n",
        "    <tr>\n",
        "      <th>136  </th>\n",
        "      <td> 3365</td>\n",
        "      <td> 2305</td>\n",
        "    </tr>\n",
        "    <tr>\n",
        "      <th>137  </th>\n",
        "      <td> 3090</td>\n",
        "      <td> 2102</td>\n",
        "    </tr>\n",
        "    <tr>\n",
        "      <th>138  </th>\n",
        "      <td> 3070</td>\n",
        "      <td> 2114</td>\n",
        "    </tr>\n",
        "    <tr>\n",
        "      <th>139  </th>\n",
        "      <td> 3091</td>\n",
        "      <td> 2230</td>\n",
        "    </tr>\n",
        "    <tr>\n",
        "      <th>140  </th>\n",
        "      <td> 3091</td>\n",
        "      <td> 2213</td>\n",
        "    </tr>\n",
        "    <tr>\n",
        "      <th>141  </th>\n",
        "      <td> 2950</td>\n",
        "      <td> 1921</td>\n",
        "    </tr>\n",
        "    <tr>\n",
        "      <th>142  </th>\n",
        "      <td> 2957</td>\n",
        "      <td> 1929</td>\n",
        "    </tr>\n",
        "    <tr>\n",
        "      <th>143  </th>\n",
        "      <td> 3593</td>\n",
        "      <td> 2468</td>\n",
        "    </tr>\n",
        "    <tr>\n",
        "      <th>144  </th>\n",
        "      <td> 3575</td>\n",
        "      <td> 2485</td>\n",
        "    </tr>\n",
        "    <tr>\n",
        "      <th>145  </th>\n",
        "      <td> 3434</td>\n",
        "      <td> 2305</td>\n",
        "    </tr>\n",
        "    <tr>\n",
        "      <th>146  </th>\n",
        "      <td> 3427</td>\n",
        "      <td> 2282</td>\n",
        "    </tr>\n",
        "    <tr>\n",
        "      <th>147  </th>\n",
        "      <td> 3431</td>\n",
        "      <td> 2314</td>\n",
        "    </tr>\n",
        "    <tr>\n",
        "      <th>148  </th>\n",
        "      <td> 3454</td>\n",
        "      <td> 2305</td>\n",
        "    </tr>\n",
        "    <tr>\n",
        "      <th>...</th>\n",
        "      <td>...</td>\n",
        "      <td>...</td>\n",
        "    </tr>\n",
        "    <tr>\n",
        "      <th>77347</th>\n",
        "      <td> 4608</td>\n",
        "      <td> 2745</td>\n",
        "    </tr>\n",
        "    <tr>\n",
        "      <th>77348</th>\n",
        "      <td> 4610</td>\n",
        "      <td> 2798</td>\n",
        "    </tr>\n",
        "    <tr>\n",
        "      <th>77349</th>\n",
        "      <td> 4962</td>\n",
        "      <td> 3202</td>\n",
        "    </tr>\n",
        "    <tr>\n",
        "      <th>77350</th>\n",
        "      <td> 4962</td>\n",
        "      <td> 3202</td>\n",
        "    </tr>\n",
        "    <tr>\n",
        "      <th>77351</th>\n",
        "      <td> 4962</td>\n",
        "      <td> 3202</td>\n",
        "    </tr>\n",
        "    <tr>\n",
        "      <th>77352</th>\n",
        "      <td> 4521</td>\n",
        "      <td> 3036</td>\n",
        "    </tr>\n",
        "    <tr>\n",
        "      <th>77353</th>\n",
        "      <td> 4561</td>\n",
        "      <td> 3002</td>\n",
        "    </tr>\n",
        "    <tr>\n",
        "      <th>77354</th>\n",
        "      <td> 4510</td>\n",
        "      <td> 2929</td>\n",
        "    </tr>\n",
        "    <tr>\n",
        "      <th>77355</th>\n",
        "      <td> 4492</td>\n",
        "      <td> 3018</td>\n",
        "    </tr>\n",
        "    <tr>\n",
        "      <th>77356</th>\n",
        "      <td> 4962</td>\n",
        "      <td> 3202</td>\n",
        "    </tr>\n",
        "    <tr>\n",
        "      <th>77357</th>\n",
        "      <td> 4962</td>\n",
        "      <td> 3202</td>\n",
        "    </tr>\n",
        "    <tr>\n",
        "      <th>77358</th>\n",
        "      <td> 4984</td>\n",
        "      <td> 3255</td>\n",
        "    </tr>\n",
        "    <tr>\n",
        "      <th>77359</th>\n",
        "      <td> 4984</td>\n",
        "      <td> 3233</td>\n",
        "    </tr>\n",
        "    <tr>\n",
        "      <th>77360</th>\n",
        "      <td> 4984</td>\n",
        "      <td> 3210</td>\n",
        "    </tr>\n",
        "    <tr>\n",
        "      <th>77361</th>\n",
        "      <td> 4984</td>\n",
        "      <td> 3276</td>\n",
        "    </tr>\n",
        "    <tr>\n",
        "      <th>77362</th>\n",
        "      <td> 5039</td>\n",
        "      <td> 3165</td>\n",
        "    </tr>\n",
        "    <tr>\n",
        "      <th>77363</th>\n",
        "      <td> 5039</td>\n",
        "      <td> 3165</td>\n",
        "    </tr>\n",
        "    <tr>\n",
        "      <th>77364</th>\n",
        "      <td> 5039</td>\n",
        "      <td> 3165</td>\n",
        "    </tr>\n",
        "    <tr>\n",
        "      <th>77365</th>\n",
        "      <td> 5039</td>\n",
        "      <td> 3165</td>\n",
        "    </tr>\n",
        "    <tr>\n",
        "      <th>77366</th>\n",
        "      <td> 2930</td>\n",
        "      <td> 1895</td>\n",
        "    </tr>\n",
        "    <tr>\n",
        "      <th>77367</th>\n",
        "      <td> 2938</td>\n",
        "      <td> 1885</td>\n",
        "    </tr>\n",
        "    <tr>\n",
        "      <th>77368</th>\n",
        "      <td> 2494</td>\n",
        "      <td> 1596</td>\n",
        "    </tr>\n",
        "    <tr>\n",
        "      <th>77369</th>\n",
        "      <td> 4119</td>\n",
        "      <td> 4613</td>\n",
        "    </tr>\n",
        "    <tr>\n",
        "      <th>77370</th>\n",
        "      <td> 4952</td>\n",
        "      <td> 2635</td>\n",
        "    </tr>\n",
        "    <tr>\n",
        "      <th>77371</th>\n",
        "      <td> 4685</td>\n",
        "      <td> 2702</td>\n",
        "    </tr>\n",
        "    <tr>\n",
        "      <th>77372</th>\n",
        "      <td> 4685</td>\n",
        "      <td> 2702</td>\n",
        "    </tr>\n",
        "    <tr>\n",
        "      <th>77373</th>\n",
        "      <td> 4685</td>\n",
        "      <td> 2702</td>\n",
        "    </tr>\n",
        "    <tr>\n",
        "      <th>77374</th>\n",
        "      <td> 4685</td>\n",
        "      <td> 2702</td>\n",
        "    </tr>\n",
        "    <tr>\n",
        "      <th>77375</th>\n",
        "      <td> 4045</td>\n",
        "      <td> 2837</td>\n",
        "    </tr>\n",
        "    <tr>\n",
        "      <th>77376</th>\n",
        "      <td> 4112</td>\n",
        "      <td> 3059</td>\n",
        "    </tr>\n",
        "  </tbody>\n",
        "</table>\n",
        "<p>66882 rows \u00d7 2 columns</p>\n",
        "</div>"
       ],
       "metadata": {},
       "output_type": "pyout",
       "prompt_number": 33,
       "text": [
        "       full_height  full_width\n",
        "id                            \n",
        "119           7230        5428\n",
        "120           5428        7230\n",
        "121           7230        5428\n",
        "122           7230        5428\n",
        "123           7230        5428\n",
        "124           7230        5428\n",
        "125           7230        5428\n",
        "126           7230        5428\n",
        "127            NaN         NaN\n",
        "128            NaN         NaN\n",
        "129           3074        2046\n",
        "130           3049        2004\n",
        "131           3690        2888\n",
        "132           3679        2866\n",
        "133           3413        2307\n",
        "134           3411        2291\n",
        "135           3352        2312\n",
        "136           3365        2305\n",
        "137           3090        2102\n",
        "138           3070        2114\n",
        "139           3091        2230\n",
        "140           3091        2213\n",
        "141           2950        1921\n",
        "142           2957        1929\n",
        "143           3593        2468\n",
        "144           3575        2485\n",
        "145           3434        2305\n",
        "146           3427        2282\n",
        "147           3431        2314\n",
        "148           3454        2305\n",
        "...            ...         ...\n",
        "77347         4608        2745\n",
        "77348         4610        2798\n",
        "77349         4962        3202\n",
        "77350         4962        3202\n",
        "77351         4962        3202\n",
        "77352         4521        3036\n",
        "77353         4561        3002\n",
        "77354         4510        2929\n",
        "77355         4492        3018\n",
        "77356         4962        3202\n",
        "77357         4962        3202\n",
        "77358         4984        3255\n",
        "77359         4984        3233\n",
        "77360         4984        3210\n",
        "77361         4984        3276\n",
        "77362         5039        3165\n",
        "77363         5039        3165\n",
        "77364         5039        3165\n",
        "77365         5039        3165\n",
        "77366         2930        1895\n",
        "77367         2938        1885\n",
        "77368         2494        1596\n",
        "77369         4119        4613\n",
        "77370         4952        2635\n",
        "77371         4685        2702\n",
        "77372         4685        2702\n",
        "77373         4685        2702\n",
        "77374         4685        2702\n",
        "77375         4045        2837\n",
        "77376         4112        3059\n",
        "\n",
        "[66882 rows x 2 columns]"
       ]
      }
     ],
     "prompt_number": 33
    },
    {
     "cell_type": "markdown",
     "metadata": {},
     "source": [
      "##### Menu.csv"
     ]
    },
    {
     "cell_type": "code",
     "collapsed": false,
     "input": [
      "LATEST_MENU_DATA_DF.columns"
     ],
     "language": "python",
     "metadata": {},
     "outputs": [
      {
       "metadata": {},
       "output_type": "pyout",
       "prompt_number": 34,
       "text": [
        "Index(['name', 'sponsor', 'event', 'venue', 'place', 'physical_description', 'occasion', 'notes', 'call_number', 'keywords', 'language', 'date', 'location', 'location_type', 'currency', 'currency_symbol', 'status', 'page_count', 'dish_count'], dtype='object')"
       ]
      }
     ],
     "prompt_number": 34
    },
    {
     "cell_type": "code",
     "collapsed": false,
     "input": [
      "discarded_columns3 = [n for n in LATEST_MENU_DATA_DF.columns if n not in \n",
      "                      ['sponsor', 'location', 'date', 'page_count', 'dish_count']]"
     ],
     "language": "python",
     "metadata": {},
     "outputs": [],
     "prompt_number": 35
    },
    {
     "cell_type": "code",
     "collapsed": false,
     "input": [
      "pipeline_logger.info('Discarding columns from Menu.csv \u2026')\n",
      "for discard3 in discarded_columns3:\n",
      "    pipeline_logger.info('{0} \u2026 removed'.format(discard3))"
     ],
     "language": "python",
     "metadata": {},
     "outputs": [
      {
       "output_type": "stream",
       "stream": "stderr",
       "text": [
        "INFO:MenusDataTransformLogger:Discarding columns from Menu.csv \u2026\n"
       ]
      },
      {
       "output_type": "stream",
       "stream": "stderr",
       "text": [
        "INFO:MenusDataTransformLogger:name \u2026 removed\n"
       ]
      },
      {
       "output_type": "stream",
       "stream": "stderr",
       "text": [
        "INFO:MenusDataTransformLogger:event \u2026 removed\n"
       ]
      },
      {
       "output_type": "stream",
       "stream": "stderr",
       "text": [
        "INFO:MenusDataTransformLogger:venue \u2026 removed\n"
       ]
      },
      {
       "output_type": "stream",
       "stream": "stderr",
       "text": [
        "INFO:MenusDataTransformLogger:place \u2026 removed\n"
       ]
      },
      {
       "output_type": "stream",
       "stream": "stderr",
       "text": [
        "INFO:MenusDataTransformLogger:physical_description \u2026 removed\n"
       ]
      },
      {
       "output_type": "stream",
       "stream": "stderr",
       "text": [
        "INFO:MenusDataTransformLogger:occasion \u2026 removed\n"
       ]
      },
      {
       "output_type": "stream",
       "stream": "stderr",
       "text": [
        "INFO:MenusDataTransformLogger:notes \u2026 removed\n"
       ]
      },
      {
       "output_type": "stream",
       "stream": "stderr",
       "text": [
        "INFO:MenusDataTransformLogger:call_number \u2026 removed\n"
       ]
      },
      {
       "output_type": "stream",
       "stream": "stderr",
       "text": [
        "INFO:MenusDataTransformLogger:keywords \u2026 removed\n"
       ]
      },
      {
       "output_type": "stream",
       "stream": "stderr",
       "text": [
        "INFO:MenusDataTransformLogger:language \u2026 removed\n"
       ]
      },
      {
       "output_type": "stream",
       "stream": "stderr",
       "text": [
        "INFO:MenusDataTransformLogger:location_type \u2026 removed\n"
       ]
      },
      {
       "output_type": "stream",
       "stream": "stderr",
       "text": [
        "INFO:MenusDataTransformLogger:currency \u2026 removed\n"
       ]
      },
      {
       "output_type": "stream",
       "stream": "stderr",
       "text": [
        "INFO:MenusDataTransformLogger:currency_symbol \u2026 removed\n"
       ]
      },
      {
       "output_type": "stream",
       "stream": "stderr",
       "text": [
        "INFO:MenusDataTransformLogger:status \u2026 removed\n"
       ]
      }
     ],
     "prompt_number": 36
    },
    {
     "cell_type": "code",
     "collapsed": false,
     "input": [
      "TRIMMED_MENU_DATA_DF = LATEST_MENU_DATA_DF[['sponsor', 'location', 'date',\n",
      "                                            'page_count', 'dish_count']]"
     ],
     "language": "python",
     "metadata": {},
     "outputs": [],
     "prompt_number": 37
    },
    {
     "cell_type": "code",
     "collapsed": false,
     "input": [
      "#TRIMMED_MENU_DATA_DF.head()"
     ],
     "language": "python",
     "metadata": {},
     "outputs": [],
     "prompt_number": 38
    },
    {
     "cell_type": "markdown",
     "metadata": {},
     "source": [
      "##### Merging DataFrames"
     ]
    },
    {
     "cell_type": "code",
     "collapsed": false,
     "input": [
      "MERGED_ITEM_PAGES_DF = pd.merge(TRIMMED_ITEM_DATA_DF, LATEST_PAGE_DATA_DF, \n",
      "                                left_on='menu_page_id', right_index=True, )"
     ],
     "language": "python",
     "metadata": {},
     "outputs": [],
     "prompt_number": 39
    },
    {
     "cell_type": "code",
     "collapsed": false,
     "input": [
      "MERGED_ITEM_PAGES_DF.columns = ['item_id', 'menu_page_id', 'xpos', 'ypos', \n",
      "                                'item_created_at', 'item_updated_at', 'menu_id', 'page_number', \n",
      "                                'image_id', 'full_height', 'full_width', 'uuid']"
     ],
     "language": "python",
     "metadata": {},
     "outputs": [],
     "prompt_number": 40
    },
    {
     "cell_type": "code",
     "collapsed": false,
     "input": [
      "#MERGED_ITEM_PAGES_DF.head()"
     ],
     "language": "python",
     "metadata": {},
     "outputs": [],
     "prompt_number": 41
    },
    {
     "cell_type": "code",
     "collapsed": false,
     "input": [
      "MERGED_ITEM_PAGES_MENUS_DF = pd.merge(TRIMMED_MENU_DATA_DF, MERGED_ITEM_PAGES_DF, \n",
      "                                      left_index=True, right_on='menu_id')"
     ],
     "language": "python",
     "metadata": {},
     "outputs": [],
     "prompt_number": 42
    },
    {
     "cell_type": "code",
     "collapsed": false,
     "input": [
      "FULL_MERGE = pd.merge(MERGED_ITEM_PAGES_MENUS_DF, TRIMMED_DISH_DATA_DF, \n",
      "                      left_index=True, right_index=True)"
     ],
     "language": "python",
     "metadata": {},
     "outputs": [],
     "prompt_number": 43
    },
    {
     "cell_type": "code",
     "collapsed": false,
     "input": [
      "FULL_MERGE.head()"
     ],
     "language": "python",
     "metadata": {},
     "outputs": [
      {
       "html": [
        "<div style=\"max-height:1000px;max-width:1500px;overflow:auto;\">\n",
        "<table border=\"1\" class=\"dataframe\">\n",
        "  <thead>\n",
        "    <tr style=\"text-align: right;\">\n",
        "      <th></th>\n",
        "      <th>sponsor</th>\n",
        "      <th>location</th>\n",
        "      <th>date</th>\n",
        "      <th>page_count</th>\n",
        "      <th>dish_count</th>\n",
        "      <th>item_id</th>\n",
        "      <th>menu_page_id</th>\n",
        "      <th>xpos</th>\n",
        "      <th>ypos</th>\n",
        "      <th>item_created_at</th>\n",
        "      <th>...</th>\n",
        "      <th>page_number</th>\n",
        "      <th>image_id</th>\n",
        "      <th>full_height</th>\n",
        "      <th>full_width</th>\n",
        "      <th>uuid</th>\n",
        "      <th>name</th>\n",
        "      <th>menus_appeared</th>\n",
        "      <th>times_appeared</th>\n",
        "      <th>normalized_name</th>\n",
        "      <th>fingerprint</th>\n",
        "    </tr>\n",
        "  </thead>\n",
        "  <tbody>\n",
        "    <tr>\n",
        "      <th>1</th>\n",
        "      <td>  CAFE BOULEVARD</td>\n",
        "      <td>  Cafe Boulevard</td>\n",
        "      <td> 1900-04-22</td>\n",
        "      <td> 2</td>\n",
        "      <td>  17</td>\n",
        "      <td>  73003</td>\n",
        "      <td>  248</td>\n",
        "      <td> 0.344286</td>\n",
        "      <td> 0.498271</td>\n",
        "      <td> 20110426T205120+0000</td>\n",
        "      <td>...</td>\n",
        "      <td> 1</td>\n",
        "      <td>     466987</td>\n",
        "      <td> 2920</td>\n",
        "      <td> 2113</td>\n",
        "      <td> 510d47db-49cb-a3d9-e040-e00a18064a99</td>\n",
        "      <td> Consomme printaniere royal</td>\n",
        "      <td> 10</td>\n",
        "      <td> 10</td>\n",
        "      <td> consomme printaniere royal</td>\n",
        "      <td> consomme printaniere royal</td>\n",
        "    </tr>\n",
        "    <tr>\n",
        "      <th>1</th>\n",
        "      <td>             NaN</td>\n",
        "      <td>  Cafe Boulevard</td>\n",
        "      <td> 1900-04-22</td>\n",
        "      <td> 2</td>\n",
        "      <td>  17</td>\n",
        "      <td> 128544</td>\n",
        "      <td>  635</td>\n",
        "      <td> 0.341429</td>\n",
        "      <td> 0.492068</td>\n",
        "      <td> 20110429T204525+0000</td>\n",
        "      <td>...</td>\n",
        "      <td> 1</td>\n",
        "      <td>     466987</td>\n",
        "      <td> 2920</td>\n",
        "      <td> 2113</td>\n",
        "      <td> 510d47db-49cb-a3d9-e040-e00a18064a99</td>\n",
        "      <td> Consomme printaniere royal</td>\n",
        "      <td> 10</td>\n",
        "      <td> 10</td>\n",
        "      <td> consomme printaniere royal</td>\n",
        "      <td> consomme printaniere royal</td>\n",
        "    </tr>\n",
        "    <tr>\n",
        "      <th>1</th>\n",
        "      <td> CLAREMONT HOTEL</td>\n",
        "      <td> Claremont Hotel</td>\n",
        "      <td> 1900-04-09</td>\n",
        "      <td> 2</td>\n",
        "      <td> 226</td>\n",
        "      <td>      1</td>\n",
        "      <td> 1389</td>\n",
        "      <td> 0.111429</td>\n",
        "      <td> 0.254735</td>\n",
        "      <td> 20110328T150044+0000</td>\n",
        "      <td>...</td>\n",
        "      <td> 1</td>\n",
        "      <td>     466854</td>\n",
        "      <td> 4544</td>\n",
        "      <td> 2540</td>\n",
        "      <td> 510d47db-4861-a3d9-e040-e00a18064a99</td>\n",
        "      <td> Consomme printaniere royal</td>\n",
        "      <td> 10</td>\n",
        "      <td> 10</td>\n",
        "      <td> consomme printaniere royal</td>\n",
        "      <td> consomme printaniere royal</td>\n",
        "    </tr>\n",
        "    <tr>\n",
        "      <th>1</th>\n",
        "      <td>             NaN</td>\n",
        "      <td> Claremont Hotel</td>\n",
        "      <td> 1900-04-09</td>\n",
        "      <td> 2</td>\n",
        "      <td> 221</td>\n",
        "      <td> 168416</td>\n",
        "      <td> 1677</td>\n",
        "      <td> 0.100000</td>\n",
        "      <td> 0.254735</td>\n",
        "      <td> 20110504T200045+0000</td>\n",
        "      <td>...</td>\n",
        "      <td> 1</td>\n",
        "      <td>     466854</td>\n",
        "      <td> 4544</td>\n",
        "      <td> 2540</td>\n",
        "      <td> 510d47db-4861-a3d9-e040-e00a18064a99</td>\n",
        "      <td> Consomme printaniere royal</td>\n",
        "      <td> 10</td>\n",
        "      <td> 10</td>\n",
        "      <td> consomme printaniere royal</td>\n",
        "      <td> consomme printaniere royal</td>\n",
        "    </tr>\n",
        "    <tr>\n",
        "      <th>1</th>\n",
        "      <td>   DENISON HOTEL</td>\n",
        "      <td>   Denison Hotel</td>\n",
        "      <td> 1906-12-25</td>\n",
        "      <td> 7</td>\n",
        "      <td>  44</td>\n",
        "      <td> 140158</td>\n",
        "      <td> 5129</td>\n",
        "      <td> 0.264286</td>\n",
        "      <td> 0.423484</td>\n",
        "      <td> 20110501T143347+0000</td>\n",
        "      <td>...</td>\n",
        "      <td> 3</td>\n",
        "      <td> 4000019536</td>\n",
        "      <td> 3776</td>\n",
        "      <td> 2444</td>\n",
        "      <td> 510d47db-8389-a3d9-e040-e00a18064a99</td>\n",
        "      <td> Consomme printaniere royal</td>\n",
        "      <td> 10</td>\n",
        "      <td> 10</td>\n",
        "      <td> consomme printaniere royal</td>\n",
        "      <td> consomme printaniere royal</td>\n",
        "    </tr>\n",
        "  </tbody>\n",
        "</table>\n",
        "<p>5 rows \u00d7 22 columns</p>\n",
        "</div>"
       ],
       "metadata": {},
       "output_type": "pyout",
       "prompt_number": 44,
       "text": [
        "           sponsor         location        date  page_count  dish_count  \\\n",
        "1   CAFE BOULEVARD   Cafe Boulevard  1900-04-22           2          17   \n",
        "1              NaN   Cafe Boulevard  1900-04-22           2          17   \n",
        "1  CLAREMONT HOTEL  Claremont Hotel  1900-04-09           2         226   \n",
        "1              NaN  Claremont Hotel  1900-04-09           2         221   \n",
        "1    DENISON HOTEL    Denison Hotel  1906-12-25           7          44   \n",
        "\n",
        "   item_id  menu_page_id      xpos      ypos       item_created_at  \\\n",
        "1    73003           248  0.344286  0.498271  20110426T205120+0000   \n",
        "1   128544           635  0.341429  0.492068  20110429T204525+0000   \n",
        "1        1          1389  0.111429  0.254735  20110328T150044+0000   \n",
        "1   168416          1677  0.100000  0.254735  20110504T200045+0000   \n",
        "1   140158          5129  0.264286  0.423484  20110501T143347+0000   \n",
        "\n",
        "           ...          page_number    image_id  full_height full_width  \\\n",
        "1          ...                    1      466987         2920       2113   \n",
        "1          ...                    1      466987         2920       2113   \n",
        "1          ...                    1      466854         4544       2540   \n",
        "1          ...                    1      466854         4544       2540   \n",
        "1          ...                    3  4000019536         3776       2444   \n",
        "\n",
        "                                   uuid                        name  \\\n",
        "1  510d47db-49cb-a3d9-e040-e00a18064a99  Consomme printaniere royal   \n",
        "1  510d47db-49cb-a3d9-e040-e00a18064a99  Consomme printaniere royal   \n",
        "1  510d47db-4861-a3d9-e040-e00a18064a99  Consomme printaniere royal   \n",
        "1  510d47db-4861-a3d9-e040-e00a18064a99  Consomme printaniere royal   \n",
        "1  510d47db-8389-a3d9-e040-e00a18064a99  Consomme printaniere royal   \n",
        "\n",
        "  menus_appeared times_appeared             normalized_name  \\\n",
        "1             10             10  consomme printaniere royal   \n",
        "1             10             10  consomme printaniere royal   \n",
        "1             10             10  consomme printaniere royal   \n",
        "1             10             10  consomme printaniere royal   \n",
        "1             10             10  consomme printaniere royal   \n",
        "\n",
        "                  fingerprint  \n",
        "1  consomme printaniere royal  \n",
        "1  consomme printaniere royal  \n",
        "1  consomme printaniere royal  \n",
        "1  consomme printaniere royal  \n",
        "1  consomme printaniere royal  \n",
        "\n",
        "[5 rows x 22 columns]"
       ]
      }
     ],
     "prompt_number": 44
    },
    {
     "cell_type": "code",
     "collapsed": false,
     "input": [
      "FOR_JSON_OUTPUT = FULL_MERGE.reset_index()"
     ],
     "language": "python",
     "metadata": {},
     "outputs": [],
     "prompt_number": 45
    },
    {
     "cell_type": "code",
     "collapsed": false,
     "input": [
      "FOR_JSON_OUTPUT.columns"
     ],
     "language": "python",
     "metadata": {},
     "outputs": [
      {
       "metadata": {},
       "output_type": "pyout",
       "prompt_number": 46,
       "text": [
        "Index(['index', 'sponsor', 'location', 'date', 'page_count', 'dish_count', 'item_id', 'menu_page_id', 'xpos', 'ypos', 'item_created_at', 'item_updated_at', 'menu_id', 'page_number', 'image_id', 'full_height', 'full_width', 'uuid', 'name', 'menus_appeared', 'times_appeared', 'normalized_name', 'fingerprint'], dtype='object')"
       ]
      }
     ],
     "prompt_number": 46
    },
    {
     "cell_type": "code",
     "collapsed": false,
     "input": [
      "renamed_columns = ['dish_id', 'menu_sponsor', 'menu_location', 'menu_date', 'menu_page_count', \n",
      "                   'menu_dish_count', 'item_id', 'menu_page_id', 'item_xpos', 'item_ypos', \n",
      "                   'item_created_at', 'item_updated_at', 'menu_id', 'menu_page_number', 'image_id', \n",
      "                   'page_image_full_height', 'page_image_full_width', 'page_image_uuid', 'dish_name', \n",
      "                   'dish_menus_appeared', 'dish_times_appeared', 'dish_normalized_name', 'dish_name_fingerprint']"
     ],
     "language": "python",
     "metadata": {},
     "outputs": [],
     "prompt_number": 47
    },
    {
     "cell_type": "code",
     "collapsed": false,
     "input": [
      "FOR_JSON_OUTPUT.columns = renamed_columns"
     ],
     "language": "python",
     "metadata": {},
     "outputs": [],
     "prompt_number": 48
    },
    {
     "cell_type": "code",
     "collapsed": false,
     "input": [
      "FOR_JSON_OUTPUT[['menu_page_number', 'dish_id', 'item_id', 'menu_page_id', 'menu_id']].astype(int, raise_on_error=False)"
     ],
     "language": "python",
     "metadata": {},
     "outputs": [
      {
       "html": [
        "<div style=\"max-height:1000px;max-width:1500px;overflow:auto;\">\n",
        "<table border=\"1\" class=\"dataframe\">\n",
        "  <thead>\n",
        "    <tr style=\"text-align: right;\">\n",
        "      <th></th>\n",
        "      <th>menu_page_number</th>\n",
        "      <th>dish_id</th>\n",
        "      <th>item_id</th>\n",
        "      <th>menu_page_id</th>\n",
        "      <th>menu_id</th>\n",
        "    </tr>\n",
        "  </thead>\n",
        "  <tbody>\n",
        "    <tr>\n",
        "      <th>0      </th>\n",
        "      <td>  1</td>\n",
        "      <td>      1</td>\n",
        "      <td>   73003</td>\n",
        "      <td>   248</td>\n",
        "      <td> 12498</td>\n",
        "    </tr>\n",
        "    <tr>\n",
        "      <th>1      </th>\n",
        "      <td>  1</td>\n",
        "      <td>      1</td>\n",
        "      <td>  128544</td>\n",
        "      <td>   635</td>\n",
        "      <td> 12618</td>\n",
        "    </tr>\n",
        "    <tr>\n",
        "      <th>2      </th>\n",
        "      <td>  1</td>\n",
        "      <td>      1</td>\n",
        "      <td>       1</td>\n",
        "      <td>  1389</td>\n",
        "      <td> 12882</td>\n",
        "    </tr>\n",
        "    <tr>\n",
        "      <th>3      </th>\n",
        "      <td>  1</td>\n",
        "      <td>      1</td>\n",
        "      <td>  168416</td>\n",
        "      <td>  1677</td>\n",
        "      <td> 13000</td>\n",
        "    </tr>\n",
        "    <tr>\n",
        "      <th>4      </th>\n",
        "      <td>  3</td>\n",
        "      <td>      1</td>\n",
        "      <td>  140158</td>\n",
        "      <td>  5129</td>\n",
        "      <td> 14124</td>\n",
        "    </tr>\n",
        "    <tr>\n",
        "      <th>5      </th>\n",
        "      <td>  4</td>\n",
        "      <td>      1</td>\n",
        "      <td>  244132</td>\n",
        "      <td> 24766</td>\n",
        "      <td> 21102</td>\n",
        "    </tr>\n",
        "    <tr>\n",
        "      <th>6      </th>\n",
        "      <td>  3</td>\n",
        "      <td>      1</td>\n",
        "      <td>  449053</td>\n",
        "      <td> 30202</td>\n",
        "      <td> 22577</td>\n",
        "    </tr>\n",
        "    <tr>\n",
        "      <th>7      </th>\n",
        "      <td>  2</td>\n",
        "      <td>      1</td>\n",
        "      <td>  334472</td>\n",
        "      <td> 42185</td>\n",
        "      <td> 25779</td>\n",
        "    </tr>\n",
        "    <tr>\n",
        "      <th>8      </th>\n",
        "      <td>  1</td>\n",
        "      <td>      1</td>\n",
        "      <td>  964028</td>\n",
        "      <td> 64282</td>\n",
        "      <td> 31601</td>\n",
        "    </tr>\n",
        "    <tr>\n",
        "      <th>9      </th>\n",
        "      <td>  1</td>\n",
        "      <td>      1</td>\n",
        "      <td>  964072</td>\n",
        "      <td> 64282</td>\n",
        "      <td> 31601</td>\n",
        "    </tr>\n",
        "    <tr>\n",
        "      <th>10     </th>\n",
        "      <td>  1</td>\n",
        "      <td>      2</td>\n",
        "      <td>    8322</td>\n",
        "      <td>   906</td>\n",
        "      <td> 12702</td>\n",
        "    </tr>\n",
        "    <tr>\n",
        "      <th>11     </th>\n",
        "      <td>  1</td>\n",
        "      <td>      2</td>\n",
        "      <td>  131736</td>\n",
        "      <td>   938</td>\n",
        "      <td> 12716</td>\n",
        "    </tr>\n",
        "    <tr>\n",
        "      <th>12     </th>\n",
        "      <td>  1</td>\n",
        "      <td>      2</td>\n",
        "      <td>    5997</td>\n",
        "      <td>  1321</td>\n",
        "      <td> 12853</td>\n",
        "    </tr>\n",
        "    <tr>\n",
        "      <th>13     </th>\n",
        "      <td>  1</td>\n",
        "      <td>      2</td>\n",
        "      <td>  108217</td>\n",
        "      <td>  1361</td>\n",
        "      <td> 12871</td>\n",
        "    </tr>\n",
        "    <tr>\n",
        "      <th>14     </th>\n",
        "      <td>  1</td>\n",
        "      <td>      2</td>\n",
        "      <td>       2</td>\n",
        "      <td>  1389</td>\n",
        "      <td> 12882</td>\n",
        "    </tr>\n",
        "    <tr>\n",
        "      <th>15     </th>\n",
        "      <td>  1</td>\n",
        "      <td>      2</td>\n",
        "      <td>   11442</td>\n",
        "      <td>  1417</td>\n",
        "      <td> 12895</td>\n",
        "    </tr>\n",
        "    <tr>\n",
        "      <th>16     </th>\n",
        "      <td>  1</td>\n",
        "      <td>      2</td>\n",
        "      <td>  168431</td>\n",
        "      <td>  1677</td>\n",
        "      <td> 13000</td>\n",
        "    </tr>\n",
        "    <tr>\n",
        "      <th>17     </th>\n",
        "      <td>  3</td>\n",
        "      <td>      2</td>\n",
        "      <td>  136870</td>\n",
        "      <td>  1687</td>\n",
        "      <td> 13003</td>\n",
        "    </tr>\n",
        "    <tr>\n",
        "      <th>18     </th>\n",
        "      <td>  2</td>\n",
        "      <td>      2</td>\n",
        "      <td>   32296</td>\n",
        "      <td>  2214</td>\n",
        "      <td> 13181</td>\n",
        "    </tr>\n",
        "    <tr>\n",
        "      <th>19     </th>\n",
        "      <td>  2</td>\n",
        "      <td>      2</td>\n",
        "      <td>  195023</td>\n",
        "      <td>  2680</td>\n",
        "      <td> 13334</td>\n",
        "    </tr>\n",
        "    <tr>\n",
        "      <th>20     </th>\n",
        "      <td>  1</td>\n",
        "      <td>      2</td>\n",
        "      <td>   68139</td>\n",
        "      <td>  3193</td>\n",
        "      <td> 13505</td>\n",
        "    </tr>\n",
        "    <tr>\n",
        "      <th>21     </th>\n",
        "      <td>  1</td>\n",
        "      <td>      2</td>\n",
        "      <td>   74294</td>\n",
        "      <td>  3355</td>\n",
        "      <td> 13561</td>\n",
        "    </tr>\n",
        "    <tr>\n",
        "      <th>22     </th>\n",
        "      <td>  1</td>\n",
        "      <td>      2</td>\n",
        "      <td>   23678</td>\n",
        "      <td>  4163</td>\n",
        "      <td> 13823</td>\n",
        "    </tr>\n",
        "    <tr>\n",
        "      <th>23     </th>\n",
        "      <td>  3</td>\n",
        "      <td>      2</td>\n",
        "      <td>   24179</td>\n",
        "      <td>  4187</td>\n",
        "      <td> 13834</td>\n",
        "    </tr>\n",
        "    <tr>\n",
        "      <th>24     </th>\n",
        "      <td>  3</td>\n",
        "      <td>      2</td>\n",
        "      <td>   22462</td>\n",
        "      <td>  4373</td>\n",
        "      <td> 13899</td>\n",
        "    </tr>\n",
        "    <tr>\n",
        "      <th>25     </th>\n",
        "      <td> 11</td>\n",
        "      <td>      2</td>\n",
        "      <td>  183028</td>\n",
        "      <td>  4977</td>\n",
        "      <td> 14082</td>\n",
        "    </tr>\n",
        "    <tr>\n",
        "      <th>26     </th>\n",
        "      <td>  2</td>\n",
        "      <td>      2</td>\n",
        "      <td>   78975</td>\n",
        "      <td>  5034</td>\n",
        "      <td> 14092</td>\n",
        "    </tr>\n",
        "    <tr>\n",
        "      <th>27     </th>\n",
        "      <td>  1</td>\n",
        "      <td>      2</td>\n",
        "      <td>  276380</td>\n",
        "      <td>  6016</td>\n",
        "      <td> 14403</td>\n",
        "    </tr>\n",
        "    <tr>\n",
        "      <th>28     </th>\n",
        "      <td>  1</td>\n",
        "      <td>      2</td>\n",
        "      <td>   17667</td>\n",
        "      <td>  6070</td>\n",
        "      <td> 14413</td>\n",
        "    </tr>\n",
        "    <tr>\n",
        "      <th>29     </th>\n",
        "      <td>  2</td>\n",
        "      <td>      2</td>\n",
        "      <td>    6950</td>\n",
        "      <td>  6190</td>\n",
        "      <td> 14444</td>\n",
        "    </tr>\n",
        "    <tr>\n",
        "      <th>...</th>\n",
        "      <td>...</td>\n",
        "      <td>...</td>\n",
        "      <td>...</td>\n",
        "      <td>...</td>\n",
        "      <td>...</td>\n",
        "    </tr>\n",
        "    <tr>\n",
        "      <th>1315029</th>\n",
        "      <td>  2</td>\n",
        "      <td> 500542</td>\n",
        "      <td> 1371500</td>\n",
        "      <td> 77189</td>\n",
        "      <td> 35461</td>\n",
        "    </tr>\n",
        "    <tr>\n",
        "      <th>1315030</th>\n",
        "      <td>  2</td>\n",
        "      <td> 500543</td>\n",
        "      <td> 1371503</td>\n",
        "      <td> 77189</td>\n",
        "      <td> 35461</td>\n",
        "    </tr>\n",
        "    <tr>\n",
        "      <th>1315031</th>\n",
        "      <td>  2</td>\n",
        "      <td> 500544</td>\n",
        "      <td> 1371509</td>\n",
        "      <td> 77189</td>\n",
        "      <td> 35461</td>\n",
        "    </tr>\n",
        "    <tr>\n",
        "      <th>1315032</th>\n",
        "      <td>  2</td>\n",
        "      <td> 500545</td>\n",
        "      <td> 1371531</td>\n",
        "      <td> 77189</td>\n",
        "      <td> 35461</td>\n",
        "    </tr>\n",
        "    <tr>\n",
        "      <th>1315033</th>\n",
        "      <td>  2</td>\n",
        "      <td> 500546</td>\n",
        "      <td> 1371532</td>\n",
        "      <td> 77189</td>\n",
        "      <td> 35461</td>\n",
        "    </tr>\n",
        "    <tr>\n",
        "      <th>1315034</th>\n",
        "      <td>  1</td>\n",
        "      <td> 500548</td>\n",
        "      <td> 1368155</td>\n",
        "      <td> 77255</td>\n",
        "      <td> 35478</td>\n",
        "    </tr>\n",
        "    <tr>\n",
        "      <th>1315035</th>\n",
        "      <td>  1</td>\n",
        "      <td> 500549</td>\n",
        "      <td> 1368339</td>\n",
        "      <td> 77233</td>\n",
        "      <td> 35469</td>\n",
        "    </tr>\n",
        "    <tr>\n",
        "      <th>1315036</th>\n",
        "      <td>  1</td>\n",
        "      <td> 500550</td>\n",
        "      <td> 1368336</td>\n",
        "      <td> 77233</td>\n",
        "      <td> 35469</td>\n",
        "    </tr>\n",
        "    <tr>\n",
        "      <th>1315037</th>\n",
        "      <td>  1</td>\n",
        "      <td> 500551</td>\n",
        "      <td> 1368341</td>\n",
        "      <td> 77233</td>\n",
        "      <td> 35469</td>\n",
        "    </tr>\n",
        "    <tr>\n",
        "      <th>1315038</th>\n",
        "      <td>  1</td>\n",
        "      <td> 500552</td>\n",
        "      <td> 1371546</td>\n",
        "      <td> 77233</td>\n",
        "      <td> 35469</td>\n",
        "    </tr>\n",
        "    <tr>\n",
        "      <th>1315039</th>\n",
        "      <td>  1</td>\n",
        "      <td> 500553</td>\n",
        "      <td> 1371557</td>\n",
        "      <td> 77341</td>\n",
        "      <td> 35505</td>\n",
        "    </tr>\n",
        "    <tr>\n",
        "      <th>1315040</th>\n",
        "      <td>  1</td>\n",
        "      <td> 500554</td>\n",
        "      <td> 1371560</td>\n",
        "      <td> 77341</td>\n",
        "      <td> 35505</td>\n",
        "    </tr>\n",
        "    <tr>\n",
        "      <th>1315041</th>\n",
        "      <td>  1</td>\n",
        "      <td> 500555</td>\n",
        "      <td> 1371576</td>\n",
        "      <td> 77341</td>\n",
        "      <td> 35505</td>\n",
        "    </tr>\n",
        "    <tr>\n",
        "      <th>1315042</th>\n",
        "      <td>  1</td>\n",
        "      <td> 500556</td>\n",
        "      <td> 1371577</td>\n",
        "      <td> 77341</td>\n",
        "      <td> 35505</td>\n",
        "    </tr>\n",
        "    <tr>\n",
        "      <th>1315043</th>\n",
        "      <td>  1</td>\n",
        "      <td> 500557</td>\n",
        "      <td> 1371590</td>\n",
        "      <td> 77341</td>\n",
        "      <td> 35505</td>\n",
        "    </tr>\n",
        "    <tr>\n",
        "      <th>1315044</th>\n",
        "      <td>  1</td>\n",
        "      <td> 500558</td>\n",
        "      <td> 1371596</td>\n",
        "      <td> 77341</td>\n",
        "      <td> 35505</td>\n",
        "    </tr>\n",
        "    <tr>\n",
        "      <th>1315045</th>\n",
        "      <td>  1</td>\n",
        "      <td> 500559</td>\n",
        "      <td> 1371603</td>\n",
        "      <td> 77341</td>\n",
        "      <td> 35505</td>\n",
        "    </tr>\n",
        "    <tr>\n",
        "      <th>1315046</th>\n",
        "      <td>  1</td>\n",
        "      <td> 500560</td>\n",
        "      <td> 1371604</td>\n",
        "      <td> 77341</td>\n",
        "      <td> 35505</td>\n",
        "    </tr>\n",
        "    <tr>\n",
        "      <th>1315047</th>\n",
        "      <td>  1</td>\n",
        "      <td> 500561</td>\n",
        "      <td> 1371610</td>\n",
        "      <td> 77341</td>\n",
        "      <td> 35505</td>\n",
        "    </tr>\n",
        "    <tr>\n",
        "      <th>1315048</th>\n",
        "      <td>  1</td>\n",
        "      <td> 500562</td>\n",
        "      <td> 1371611</td>\n",
        "      <td> 77341</td>\n",
        "      <td> 35505</td>\n",
        "    </tr>\n",
        "    <tr>\n",
        "      <th>1315049</th>\n",
        "      <td>  1</td>\n",
        "      <td> 500563</td>\n",
        "      <td> 1371612</td>\n",
        "      <td> 77341</td>\n",
        "      <td> 35505</td>\n",
        "    </tr>\n",
        "    <tr>\n",
        "      <th>1315050</th>\n",
        "      <td>  1</td>\n",
        "      <td> 500564</td>\n",
        "      <td> 1371616</td>\n",
        "      <td> 77341</td>\n",
        "      <td> 35505</td>\n",
        "    </tr>\n",
        "    <tr>\n",
        "      <th>1315051</th>\n",
        "      <td>  1</td>\n",
        "      <td> 500565</td>\n",
        "      <td> 1371618</td>\n",
        "      <td> 77341</td>\n",
        "      <td> 35505</td>\n",
        "    </tr>\n",
        "    <tr>\n",
        "      <th>1315052</th>\n",
        "      <td>  1</td>\n",
        "      <td> 500566</td>\n",
        "      <td> 1371623</td>\n",
        "      <td> 77341</td>\n",
        "      <td> 35505</td>\n",
        "    </tr>\n",
        "    <tr>\n",
        "      <th>1315053</th>\n",
        "      <td>  1</td>\n",
        "      <td> 500567</td>\n",
        "      <td> 1371627</td>\n",
        "      <td> 77341</td>\n",
        "      <td> 35505</td>\n",
        "    </tr>\n",
        "    <tr>\n",
        "      <th>1315054</th>\n",
        "      <td>  1</td>\n",
        "      <td> 500568</td>\n",
        "      <td> 1371630</td>\n",
        "      <td> 77341</td>\n",
        "      <td> 35505</td>\n",
        "    </tr>\n",
        "    <tr>\n",
        "      <th>1315055</th>\n",
        "      <td>  1</td>\n",
        "      <td> 500569</td>\n",
        "      <td> 1371632</td>\n",
        "      <td> 77341</td>\n",
        "      <td> 35505</td>\n",
        "    </tr>\n",
        "    <tr>\n",
        "      <th>1315056</th>\n",
        "      <td>  1</td>\n",
        "      <td> 500570</td>\n",
        "      <td> 1371633</td>\n",
        "      <td> 77341</td>\n",
        "      <td> 35505</td>\n",
        "    </tr>\n",
        "    <tr>\n",
        "      <th>1315057</th>\n",
        "      <td>  1</td>\n",
        "      <td> 500572</td>\n",
        "      <td> 1371635</td>\n",
        "      <td> 77341</td>\n",
        "      <td> 35505</td>\n",
        "    </tr>\n",
        "    <tr>\n",
        "      <th>1315058</th>\n",
        "      <td>  1</td>\n",
        "      <td> 500573</td>\n",
        "      <td> 1371642</td>\n",
        "      <td> 77319</td>\n",
        "      <td> 35498</td>\n",
        "    </tr>\n",
        "  </tbody>\n",
        "</table>\n",
        "<p>1315059 rows \u00d7 5 columns</p>\n",
        "</div>"
       ],
       "metadata": {},
       "output_type": "pyout",
       "prompt_number": 49,
       "text": [
        "         menu_page_number  dish_id  item_id  menu_page_id  menu_id\n",
        "0                       1        1    73003           248    12498\n",
        "1                       1        1   128544           635    12618\n",
        "2                       1        1        1          1389    12882\n",
        "3                       1        1   168416          1677    13000\n",
        "4                       3        1   140158          5129    14124\n",
        "5                       4        1   244132         24766    21102\n",
        "6                       3        1   449053         30202    22577\n",
        "7                       2        1   334472         42185    25779\n",
        "8                       1        1   964028         64282    31601\n",
        "9                       1        1   964072         64282    31601\n",
        "10                      1        2     8322           906    12702\n",
        "11                      1        2   131736           938    12716\n",
        "12                      1        2     5997          1321    12853\n",
        "13                      1        2   108217          1361    12871\n",
        "14                      1        2        2          1389    12882\n",
        "15                      1        2    11442          1417    12895\n",
        "16                      1        2   168431          1677    13000\n",
        "17                      3        2   136870          1687    13003\n",
        "18                      2        2    32296          2214    13181\n",
        "19                      2        2   195023          2680    13334\n",
        "20                      1        2    68139          3193    13505\n",
        "21                      1        2    74294          3355    13561\n",
        "22                      1        2    23678          4163    13823\n",
        "23                      3        2    24179          4187    13834\n",
        "24                      3        2    22462          4373    13899\n",
        "25                     11        2   183028          4977    14082\n",
        "26                      2        2    78975          5034    14092\n",
        "27                      1        2   276380          6016    14403\n",
        "28                      1        2    17667          6070    14413\n",
        "29                      2        2     6950          6190    14444\n",
        "...                   ...      ...      ...           ...      ...\n",
        "1315029                 2   500542  1371500         77189    35461\n",
        "1315030                 2   500543  1371503         77189    35461\n",
        "1315031                 2   500544  1371509         77189    35461\n",
        "1315032                 2   500545  1371531         77189    35461\n",
        "1315033                 2   500546  1371532         77189    35461\n",
        "1315034                 1   500548  1368155         77255    35478\n",
        "1315035                 1   500549  1368339         77233    35469\n",
        "1315036                 1   500550  1368336         77233    35469\n",
        "1315037                 1   500551  1368341         77233    35469\n",
        "1315038                 1   500552  1371546         77233    35469\n",
        "1315039                 1   500553  1371557         77341    35505\n",
        "1315040                 1   500554  1371560         77341    35505\n",
        "1315041                 1   500555  1371576         77341    35505\n",
        "1315042                 1   500556  1371577         77341    35505\n",
        "1315043                 1   500557  1371590         77341    35505\n",
        "1315044                 1   500558  1371596         77341    35505\n",
        "1315045                 1   500559  1371603         77341    35505\n",
        "1315046                 1   500560  1371604         77341    35505\n",
        "1315047                 1   500561  1371610         77341    35505\n",
        "1315048                 1   500562  1371611         77341    35505\n",
        "1315049                 1   500563  1371612         77341    35505\n",
        "1315050                 1   500564  1371616         77341    35505\n",
        "1315051                 1   500565  1371618         77341    35505\n",
        "1315052                 1   500566  1371623         77341    35505\n",
        "1315053                 1   500567  1371627         77341    35505\n",
        "1315054                 1   500568  1371630         77341    35505\n",
        "1315055                 1   500569  1371632         77341    35505\n",
        "1315056                 1   500570  1371633         77341    35505\n",
        "1315057                 1   500572  1371635         77341    35505\n",
        "1315058                 1   500573  1371642         77319    35498\n",
        "\n",
        "[1315059 rows x 5 columns]"
       ]
      }
     ],
     "prompt_number": 49
    },
    {
     "cell_type": "code",
     "collapsed": false,
     "input": [
      "FOR_JSON_OUTPUT['dish_uri']= FOR_JSON_OUTPUT.dish_id.map(lambda x: 'http://menus.nypl.org/dishes/{0}'.format(int(x)))"
     ],
     "language": "python",
     "metadata": {},
     "outputs": [],
     "prompt_number": 50
    },
    {
     "cell_type": "code",
     "collapsed": false,
     "input": [
      "FOR_JSON_OUTPUT['item_uri']= FOR_JSON_OUTPUT.item_id.map(lambda x: 'http://menus.nypl.org/menu_items/{0}/edit'\n",
      "                                               .format(int(x)))"
     ],
     "language": "python",
     "metadata": {},
     "outputs": [],
     "prompt_number": 51
    },
    {
     "cell_type": "code",
     "collapsed": false,
     "input": [
      "FOR_JSON_OUTPUT['menu_page_uri'] = FOR_JSON_OUTPUT.menu_page_id.map(lambda x: 'http://menus.nypl.org/menu_pages/{0}'\n",
      "                                                          .format(int(x)))"
     ],
     "language": "python",
     "metadata": {},
     "outputs": [],
     "prompt_number": 52
    },
    {
     "cell_type": "code",
     "collapsed": false,
     "input": [
      "FOR_JSON_OUTPUT['menu_uri'] = FOR_JSON_OUTPUT.menu_id.map(lambda x:'http://menus.nypl.org/menus/{0}'\n",
      "                                                .format(int(x)))"
     ],
     "language": "python",
     "metadata": {},
     "outputs": [],
     "prompt_number": 53
    },
    {
     "cell_type": "code",
     "collapsed": false,
     "input": [
      "#FOR_JSON_OUTPUT.head()"
     ],
     "language": "python",
     "metadata": {},
     "outputs": [],
     "prompt_number": 54
    },
    {
     "cell_type": "code",
     "collapsed": false,
     "input": [
      "#FINAL_JSON_FP = os.path.join(os.environ['OUTPUTS_DIR'], 'transformed-menus-data-{0}.json'\n",
      "#                             .format(datetime.date.today()))"
     ],
     "language": "python",
     "metadata": {},
     "outputs": [],
     "prompt_number": 55
    },
    {
     "cell_type": "code",
     "collapsed": false,
     "input": [
      "from io import StringIO\n",
      "buf = StringIO()"
     ],
     "language": "python",
     "metadata": {},
     "outputs": [],
     "prompt_number": 56
    },
    {
     "cell_type": "code",
     "collapsed": false,
     "input": [
      "pipeline_logger.info('Generating JSON \u2026')\n",
      "FOR_JSON_OUTPUT.to_json(path_or_buf=buf, orient='index', force_ascii=False)\n",
      "#pipeline_logger.info('JSON saved to {0}'.format(FINAL_JSON_FP))\n",
      "pipeline_logger.info('JSON ready')"
     ],
     "language": "python",
     "metadata": {},
     "outputs": [
      {
       "output_type": "stream",
       "stream": "stderr",
       "text": [
        "INFO:MenusDataTransformLogger:Generating JSON \u2026\n"
       ]
      },
      {
       "output_type": "stream",
       "stream": "stderr",
       "text": [
        "INFO:MenusDataTransformLogger:JSON ready\n"
       ]
      }
     ],
     "prompt_number": 57
    },
    {
     "cell_type": "markdown",
     "metadata": {},
     "source": [
      "This JSON needs to be reshaped \u2026"
     ]
    },
    {
     "cell_type": "code",
     "collapsed": false,
     "input": [
      "pipeline_logger.info('Loading JSON \u2026')\n",
      "ALL_JSON_DATA = json.loads(buf.getvalue())\n",
      "pipeline_logger.info('JSON Loaded \u2026')"
     ],
     "language": "python",
     "metadata": {},
     "outputs": [
      {
       "output_type": "stream",
       "stream": "stderr",
       "text": [
        "INFO:MenusDataTransformLogger:Loading JSON \u2026\n"
       ]
      },
      {
       "output_type": "stream",
       "stream": "stderr",
       "text": [
        "INFO:MenusDataTransformLogger:JSON Loaded \u2026\n"
       ]
      }
     ],
     "prompt_number": 58
    },
    {
     "cell_type": "code",
     "collapsed": false,
     "input": [
      "def reshape_json(obj):\n",
      "    '''\n",
      "    Takes a dictionary, spits out a dictionary of slightly different shape\n",
      "    needed for bulk import by Elasticsearch\n",
      "    '''\n",
      "    action = {\n",
      "              \"_index\": \"menus\",\n",
      "              \"_type\": \"item\",\n",
      "              \"_id\": int(obj['item_id']),\n",
      "              \"_source\": obj\n",
      "              }\n",
      "    return action"
     ],
     "language": "python",
     "metadata": {},
     "outputs": []
    },
    {
     "cell_type": "code",
     "collapsed": false,
     "input": [
      "#Why is this operation taking so long???\n",
      "\n",
      "pipeline_logger.info('Preparing data to load into Elasticsearch \u2026')\n",
      "\n",
      "actions = [reshape_json(d) for d in ALL_JSON_DATA.values()]\n",
      "\n",
      "pipeline_logger.info('{0} actions ready for loading \u2026'.format(len(actions)))"
     ],
     "language": "python",
     "metadata": {},
     "outputs": [
      {
       "output_type": "stream",
       "stream": "stderr",
       "text": [
        "INFO:MenusDataTransformLogger:Preparing data to load into Elasticsearch \u2026\n"
       ]
      }
     ]
    },
    {
     "cell_type": "code",
     "collapsed": false,
     "input": [
      "#actions[0]"
     ],
     "language": "python",
     "metadata": {},
     "outputs": []
    },
    {
     "cell_type": "markdown",
     "metadata": {},
     "source": [
      "### Load (to Elasticsearch)"
     ]
    },
    {
     "cell_type": "code",
     "collapsed": false,
     "input": [
      "import elasticsearch"
     ],
     "language": "python",
     "metadata": {},
     "outputs": []
    },
    {
     "cell_type": "code",
     "collapsed": false,
     "input": [
      "os.environ['MENUS_ES_HOSTNAME'] = 'localhost'\n",
      "os.environ['MENUS_ES_HOST_PORT'] = '5000'"
     ],
     "language": "python",
     "metadata": {},
     "outputs": []
    },
    {
     "cell_type": "code",
     "collapsed": false,
     "input": [
      "es = elasticsearch.Elasticsearch([{'host': os.environ['MENUS_ES_HOSTNAME'], 'port': os.environ['MENUS_ES_HOST_PORT']}])"
     ],
     "language": "python",
     "metadata": {},
     "outputs": []
    },
    {
     "cell_type": "code",
     "collapsed": false,
     "input": [
      "INDEX_NAME = 'menus'\n",
      "TYPE_NAME = 'item'"
     ],
     "language": "python",
     "metadata": {},
     "outputs": []
    },
    {
     "cell_type": "code",
     "collapsed": false,
     "input": [
      "#es.info()"
     ],
     "language": "python",
     "metadata": {},
     "outputs": []
    },
    {
     "cell_type": "markdown",
     "metadata": {},
     "source": [
      "Check if the index already exists and, if so, delete it to keep things idempotent"
     ]
    },
    {
     "cell_type": "code",
     "collapsed": false,
     "input": [
      "if es.indices.exists(INDEX_NAME):\n",
      "    pipeline_logger.info(\"deleting '{0}' index...\".format(INDEX_NAME))\n",
      "    res = es.indices.delete(index = INDEX_NAME)\n",
      "    pipeline_logger.info(\" response: '{0}'\".format(res))"
     ],
     "language": "python",
     "metadata": {},
     "outputs": []
    },
    {
     "cell_type": "code",
     "collapsed": false,
     "input": [
      "pipeline_logger.info(\"creating '{0}' index...\".format(INDEX_NAME))\n",
      "res = es.indices.create(index = INDEX_NAME)\n",
      "pipeline_logger.info(\" response: '{0}'\".format(res))"
     ],
     "language": "python",
     "metadata": {},
     "outputs": []
    },
    {
     "cell_type": "code",
     "collapsed": false,
     "input": [
      "item_mapping = {\"properties\": {\n",
      "    'item_updated_at': {\n",
      "        \"type\": \"date\",\n",
      "        \"format\": \"basic_date_time_no_millis\"\n",
      "    },\n",
      "    'menu_page_id': {\n",
      "        \"type\": \"long\",\n",
      "    } ,\n",
      " 'menu_sponsor': {\n",
      "    \"type\": \"string\",\n",
      "    \"index\": \"not_analyzed\"\n",
      "    },\n",
      " 'menu_page_count': {\n",
      "    \"type\": \"double\"\n",
      "    },\n",
      " 'item_ypos': {\n",
      "    \"type\": \"double\"\n",
      "    },\n",
      " 'dish_normalized_name': {\n",
      "    \"type\": \"string\"\n",
      "    },\n",
      " 'menu_id': {\n",
      "        \"type\": \"long\",\n",
      "    },\n",
      " 'dish_times_appeared': {\n",
      "    \"type\": \"double\"\n",
      "    },\n",
      " 'menu_location': {\n",
      "    \"type\": \"string\",\n",
      "    \"index\": \"not_analyzed\"\n",
      "    },\n",
      " 'dish_menus_appeared': {\n",
      "    \"type\": \"double\"\n",
      "    },\n",
      " 'menu_uri': {\n",
      "    \"type\": \"string\",\n",
      "    \"index\": \"not_analyzed\"\n",
      "    },\n",
      " 'menu_page_uri': {\n",
      "    \"type\": \"string\",\n",
      "    \"index\": \"not_analyzed\"\n",
      "    },\n",
      " 'page_image_uuid': {\n",
      "    \"type\": \"string\"\n",
      "    },\n",
      " 'menu_page_number': {\n",
      "    \"type\": \"double\"\n",
      "    },\n",
      " 'item_created_at': {\n",
      "    \"type\": \"date\",\n",
      "    \"format\": \"basic_date_time_no_millis\"\n",
      "    },\n",
      " 'dish_id': {\n",
      "    \"type\": \"long\",\n",
      "    },\n",
      " 'dish_name': {\n",
      "    \"type\": \"string\",\n",
      "    \"index\": \"not_analyzed\"\n",
      "    },\n",
      " 'item_uri': {\n",
      "    \"type\": \"string\",\n",
      "    \"index\": \"not_analyzed\"\n",
      "    },\n",
      " 'item_id': {\n",
      "    \"type\": \"long\",\n",
      "    },\n",
      " 'image_id': {\n",
      "    \"type\": \"long\",\n",
      "    },\n",
      " 'item_xpos': {\n",
      "    \"type\": \"double\"\n",
      "    },\n",
      " 'dish_name_fingerprint': {\n",
      "    \"type\": \"string\",\n",
      "    \"index\": \"not_analyzed\"\n",
      "    },\n",
      " 'dish_uri': {\n",
      "    \"type\": \"string\",\n",
      "    \"index\": \"not_analyzed\"\n",
      "    }\n",
      "}\n",
      "}"
     ],
     "language": "python",
     "metadata": {},
     "outputs": []
    },
    {
     "cell_type": "code",
     "collapsed": false,
     "input": [
      "pipeline_logger.info(\"Creating mapping for '{0}' index...\".format(INDEX_NAME))\n",
      "res = es.indices.put_mapping(index='menus', doc_type='item', body=item_mapping)\n",
      "pipeline_logger.info(\" response: '{0}'\".format(res))"
     ],
     "language": "python",
     "metadata": {},
     "outputs": []
    },
    {
     "cell_type": "code",
     "collapsed": false,
     "input": [
      "def chunk_actions(l, size):\n",
      "    for i in range(0, len(l), size):\n",
      "        yield l[i:i+size]"
     ],
     "language": "python",
     "metadata": {},
     "outputs": []
    },
    {
     "cell_type": "code",
     "collapsed": false,
     "input": [
      "from elasticsearch import helpers\n",
      "\n",
      "pipeline_logger.info('Loading data into Elasticsearch \u2026')\n",
      "\n",
      "for batch in chunk_actions(actions, 50000):\n",
      "    pipeline_logger.info(es.indices.stats(INDEX_NAME))\n",
      "    helpers.bulk(es, batch)\n",
      "\n",
      "pipeline_logger.info('Elasticsearch index ready!')"
     ],
     "language": "python",
     "metadata": {},
     "outputs": []
    },
    {
     "cell_type": "code",
     "collapsed": false,
     "input": [],
     "language": "python",
     "metadata": {},
     "outputs": []
    }
   ],
   "metadata": {}
  }
 ]
}